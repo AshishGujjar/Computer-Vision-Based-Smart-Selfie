{
 "cells": [
  {
   "cell_type": "code",
   "execution_count": 2,
   "metadata": {},
   "outputs": [],
   "source": [
    "import time\n",
    "import cv2\n",
    "face_cascade = cv2.CascadeClassifier('haarcascade_frontalface_default.xml')\n",
    "\n",
    "smile_cascade = cv2.CascadeClassifier('haarcascade_smile.xml')\n",
    "\n",
    "def detect(gray, frame): \n",
    "    faces = face_cascade.detectMultiScale(gray, 1.3, 6) \n",
    "    \n",
    "    for (x, y, w, h) in faces: \n",
    "        roi_gray = gray[y:y + h, x:x + w] \n",
    "        roi_color = frame[y:y + h, x:x + w] \n",
    "        smiles = smile_cascade.detectMultiScale(roi_gray, 1.8, 20)\n",
    "        \n",
    "        for (sx, sy, sw, sh) in smiles: \n",
    "            cv2.rectangle(roi_color, (sx, sy), ((sx + sw), (sy + sh)), (0, 0, 255), 2) \n",
    "            return frame\n",
    "        \n",
    "cap = cv2.VideoCapture(0) \n",
    "count=0\n",
    "start=0\n",
    "\n",
    "while True: \n",
    "    _, frame = cap.read()  \n",
    "  \n",
    "    gray = cv2.cvtColor(frame, cv2.COLOR_BGR2GRAY)   \n",
    "      \n",
    "    canvas = detect(gray, frame)\n",
    "    \n",
    "    if canvas is not None:\n",
    "        #cv2.putText(frame,str(count),(50,50),cv2.FONT_HERSHEY_COMPLEX,1,(0,255,0),2)\n",
    "        count+=1\n",
    "        \n",
    "    if(count==5):\n",
    "        start=time.time()\n",
    "    if(start!=0 and time.time()-start<3):\n",
    "        cv2.putText(frame,str(int(time.time()-start)+1),(100,50),cv2.FONT_HERSHEY_COMPLEX,1,(0,255,0),2)\n",
    "        \n",
    "    if(count>5 and time.time()-start>3):\n",
    "        start=0\n",
    "        count=0\n",
    "        cv2.imwrite('smile.jpg',frame)\n",
    "        \n",
    "    cv2.imshow('Video', frame)  \n",
    "  \n",
    "    if cv2.waitKey(1) ==13:                \n",
    "        break \n",
    "cap.release()                                  \n",
    "cv2.destroyAllWindows() "
   ]
  }
 ],
 "metadata": {
  "kernelspec": {
   "display_name": "Python 2",
   "language": "python",
   "name": "python2"
  },
  "language_info": {
   "codemirror_mode": {
    "name": "ipython",
    "version": 2
   },
   "file_extension": ".py",
   "mimetype": "text/x-python",
   "name": "python",
   "nbconvert_exporter": "python",
   "pygments_lexer": "ipython2",
   "version": "2.7.14"
  }
 },
 "nbformat": 4,
 "nbformat_minor": 2
}
